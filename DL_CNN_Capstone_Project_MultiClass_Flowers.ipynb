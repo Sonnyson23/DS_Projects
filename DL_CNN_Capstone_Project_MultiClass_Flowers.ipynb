{
  "cells": [
    {
      "cell_type": "markdown",
      "metadata": {
        "id": "view-in-github",
        "colab_type": "text"
      },
      "source": [
        "<a href=\"https://colab.research.google.com/github/sonnyson73/DS_Projects/blob/master/DL_CNN_Capstone_Project_MultiClass_Flowers.ipynb\" target=\"_parent\"><img src=\"https://colab.research.google.com/assets/colab-badge.svg\" alt=\"Open In Colab\"/></a>"
      ]
    },
    {
      "cell_type": "markdown",
      "metadata": {
        "id": "G_sgoY65o8to"
      },
      "source": [
        "![image.png](attachment:image.png)"
      ]
    },
    {
      "cell_type": "code",
      "source": [
        "from google.colab import drive\n",
        "drive.mount('/content/drive')"
      ],
      "metadata": {
        "colab": {
          "base_uri": "https://localhost:8080/"
        },
        "id": "NVjoZsW-pKaC",
        "outputId": "9608d3bb-2c76-4059-d6db-e9ec0ddf34cb"
      },
      "execution_count": 1,
      "outputs": [
        {
          "output_type": "stream",
          "name": "stdout",
          "text": [
            "Mounted at /content/drive\n"
          ]
        }
      ]
    },
    {
      "cell_type": "code",
      "execution_count": 2,
      "metadata": {
        "ExecuteTime": {
          "end_time": "2023-09-10T12:33:35.459681Z",
          "start_time": "2023-09-10T12:33:34.236676Z"
        },
        "id": "7YcSALh_Tqpg"
      },
      "outputs": [],
      "source": [
        "import os\n",
        "import pandas as pd\n",
        "import numpy as np\n",
        "import seaborn as sns\n",
        "import matplotlib.pyplot as plt\n",
        "from matplotlib.image import imread"
      ]
    },
    {
      "cell_type": "markdown",
      "metadata": {
        "id": "o-9G2B5Uo8t1"
      },
      "source": [
        "The Dogs vs. Cats dataset is a common computer vision dataset in which pictures are classified as either including a dog or a cat.\n",
        "\n",
        "After the dataset is well studied, it can be used to understand and practice how to design, evaluate, and apply convolutional neural networks for image classification.\n",
        "\n",
        "You will build a classifier with images and try to detect dogs versus cats using CNN.\n",
        "\n",
        "Train set includes 12500 cat-5026 dog images, validation set includes 1219 cat-1071 dog images and test set incgludes 6897 cat and dogs images together."
      ]
    },
    {
      "cell_type": "code",
      "execution_count": 8,
      "metadata": {
        "ExecuteTime": {
          "end_time": "2023-09-10T12:48:54.373920Z",
          "start_time": "2023-09-10T12:48:54.360909Z"
        },
        "colab": {
          "base_uri": "https://localhost:8080/"
        },
        "id": "135ky-qQo8t2",
        "outputId": "58881f67-0b8d-4eea-b744-b736619f04c8"
      },
      "outputs": [
        {
          "output_type": "execute_result",
          "data": {
            "text/plain": [
              "['train', 'test', 'tulips', 'sunflowers', 'roses', 'dandelion', 'daisy']"
            ]
          },
          "metadata": {},
          "execution_count": 8
        }
      ],
      "source": [
        "my_data_dir='/content/drive/MyDrive/Colab Notebooks/flower_photos'\n",
        "os.listdir(my_data_dir)"
      ]
    },
    {
      "cell_type": "code",
      "execution_count": 9,
      "metadata": {
        "ExecuteTime": {
          "end_time": "2023-09-10T12:56:11.142644Z",
          "start_time": "2023-09-10T12:56:10.941112Z"
        },
        "colab": {
          "base_uri": "https://localhost:8080/",
          "height": 442
        },
        "id": "6Jw44z71o8t3",
        "outputId": "4be5a309-49bf-40e9-d0fe-fff7624e0e1d"
      },
      "outputs": [
        {
          "output_type": "error",
          "ename": "ValueError",
          "evalue": "ignored",
          "traceback": [
            "\u001b[0;31m---------------------------------------------------------------------------\u001b[0m",
            "\u001b[0;31mValueError\u001b[0m                                Traceback (most recent call last)",
            "\u001b[0;32m<ipython-input-9-20db1b6d8eed>\u001b[0m in \u001b[0;36m<cell line: 20>\u001b[0;34m()\u001b[0m\n\u001b[1;32m     18\u001b[0m \u001b[0;34m\u001b[0m\u001b[0m\n\u001b[1;32m     19\u001b[0m \u001b[0;31m# Eğitim ve test setlerini oluşturun\u001b[0m\u001b[0;34m\u001b[0m\u001b[0;34m\u001b[0m\u001b[0m\n\u001b[0;32m---> 20\u001b[0;31m \u001b[0mtrain_image_paths\u001b[0m\u001b[0;34m,\u001b[0m \u001b[0mtest_image_paths\u001b[0m\u001b[0;34m,\u001b[0m \u001b[0mtrain_labels\u001b[0m\u001b[0;34m,\u001b[0m \u001b[0mtest_labels\u001b[0m \u001b[0;34m=\u001b[0m \u001b[0mtrain_test_split\u001b[0m\u001b[0;34m(\u001b[0m\u001b[0mimage_paths\u001b[0m\u001b[0;34m,\u001b[0m \u001b[0mlabels\u001b[0m\u001b[0;34m,\u001b[0m \u001b[0mtest_size\u001b[0m\u001b[0;34m=\u001b[0m\u001b[0;36m0.2\u001b[0m\u001b[0;34m,\u001b[0m \u001b[0mshuffle\u001b[0m\u001b[0;34m=\u001b[0m\u001b[0;32mTrue\u001b[0m\u001b[0;34m,\u001b[0m \u001b[0mstratify\u001b[0m\u001b[0;34m=\u001b[0m\u001b[0mlabels\u001b[0m\u001b[0;34m)\u001b[0m\u001b[0;34m\u001b[0m\u001b[0;34m\u001b[0m\u001b[0m\n\u001b[0m\u001b[1;32m     21\u001b[0m \u001b[0;34m\u001b[0m\u001b[0m\n\u001b[1;32m     22\u001b[0m \u001b[0;31m# Eğitim ve test setlerini yazdırın\u001b[0m\u001b[0;34m\u001b[0m\u001b[0;34m\u001b[0m\u001b[0m\n",
            "\u001b[0;32m/usr/local/lib/python3.10/dist-packages/sklearn/model_selection/_split.py\u001b[0m in \u001b[0;36mtrain_test_split\u001b[0;34m(test_size, train_size, random_state, shuffle, stratify, *arrays)\u001b[0m\n\u001b[1;32m   2560\u001b[0m \u001b[0;34m\u001b[0m\u001b[0m\n\u001b[1;32m   2561\u001b[0m     \u001b[0mn_samples\u001b[0m \u001b[0;34m=\u001b[0m \u001b[0m_num_samples\u001b[0m\u001b[0;34m(\u001b[0m\u001b[0marrays\u001b[0m\u001b[0;34m[\u001b[0m\u001b[0;36m0\u001b[0m\u001b[0;34m]\u001b[0m\u001b[0;34m)\u001b[0m\u001b[0;34m\u001b[0m\u001b[0;34m\u001b[0m\u001b[0m\n\u001b[0;32m-> 2562\u001b[0;31m     n_train, n_test = _validate_shuffle_split(\n\u001b[0m\u001b[1;32m   2563\u001b[0m         \u001b[0mn_samples\u001b[0m\u001b[0;34m,\u001b[0m \u001b[0mtest_size\u001b[0m\u001b[0;34m,\u001b[0m \u001b[0mtrain_size\u001b[0m\u001b[0;34m,\u001b[0m \u001b[0mdefault_test_size\u001b[0m\u001b[0;34m=\u001b[0m\u001b[0;36m0.25\u001b[0m\u001b[0;34m\u001b[0m\u001b[0;34m\u001b[0m\u001b[0m\n\u001b[1;32m   2564\u001b[0m     )\n",
            "\u001b[0;32m/usr/local/lib/python3.10/dist-packages/sklearn/model_selection/_split.py\u001b[0m in \u001b[0;36m_validate_shuffle_split\u001b[0;34m(n_samples, test_size, train_size, default_test_size)\u001b[0m\n\u001b[1;32m   2234\u001b[0m \u001b[0;34m\u001b[0m\u001b[0m\n\u001b[1;32m   2235\u001b[0m     \u001b[0;32mif\u001b[0m \u001b[0mn_train\u001b[0m \u001b[0;34m==\u001b[0m \u001b[0;36m0\u001b[0m\u001b[0;34m:\u001b[0m\u001b[0;34m\u001b[0m\u001b[0;34m\u001b[0m\u001b[0m\n\u001b[0;32m-> 2236\u001b[0;31m         raise ValueError(\n\u001b[0m\u001b[1;32m   2237\u001b[0m             \u001b[0;34m\"With n_samples={}, test_size={} and train_size={}, the \"\u001b[0m\u001b[0;34m\u001b[0m\u001b[0;34m\u001b[0m\u001b[0m\n\u001b[1;32m   2238\u001b[0m             \u001b[0;34m\"resulting train set will be empty. Adjust any of the \"\u001b[0m\u001b[0;34m\u001b[0m\u001b[0;34m\u001b[0m\u001b[0m\n",
            "\u001b[0;31mValueError\u001b[0m: With n_samples=0, test_size=0.2 and train_size=None, the resulting train set will be empty. Adjust any of the aforementioned parameters."
          ]
        }
      ],
      "source": [
        "import os\n",
        "from sklearn.model_selection import train_test_split\n",
        "\n",
        "# Veri dizininizi belirtin\n",
        "my_data_dir = '/content/drive/MyDrive/Colab Notebooks/flower_photos'\n",
        "\n",
        "# Sınıf isimlerini alın (LICENSE.txt hariç)\n",
        "classes = ['daisy', 'dandelion', 'roses', 'sunflowers', 'tulips']\n",
        "\n",
        "# Tüm görüntü yollarını toplayın\n",
        "image_paths = []\n",
        "labels = []\n",
        "for class_name in classes:\n",
        "    class_dir = os.path.join(my_data_dir, class_name)\n",
        "    class_image_paths = [os.path.join(class_dir, fname) for fname in os.listdir(class_dir) if fname.endswith('.jpg')]\n",
        "    image_paths += class_image_paths\n",
        "    labels += [class_name] * len(class_image_paths)\n",
        "\n",
        "# Eğitim ve test setlerini oluşturun\n",
        "train_image_paths, test_image_paths, train_labels, test_labels = train_test_split(image_paths, labels, test_size=0.2, shuffle=True, stratify=labels)\n",
        "\n",
        "# Eğitim ve test setlerini yazdırın\n",
        "print(f\"Training set: {len(train_image_paths)} images\")\n",
        "print(f\"Test set: {len(test_image_paths)} images\")\n"
      ]
    },
    {
      "cell_type": "code",
      "execution_count": 11,
      "metadata": {
        "ExecuteTime": {
          "end_time": "2023-09-10T13:04:24.136918Z",
          "start_time": "2023-09-10T13:04:23.676276Z"
        },
        "colab": {
          "base_uri": "https://localhost:8080/",
          "height": 491
        },
        "id": "im5_OUYio8t6",
        "outputId": "ce133c97-9415-4732-c2ac-3ca0f8675293"
      },
      "outputs": [
        {
          "output_type": "error",
          "ename": "NameError",
          "evalue": "ignored",
          "traceback": [
            "\u001b[0;31m---------------------------------------------------------------------------\u001b[0m",
            "\u001b[0;31mNameError\u001b[0m                                 Traceback (most recent call last)",
            "\u001b[0;32m<ipython-input-11-bb492c824903>\u001b[0m in \u001b[0;36m<cell line: 7>\u001b[0;34m()\u001b[0m\n\u001b[1;32m      6\u001b[0m \u001b[0;34m\u001b[0m\u001b[0m\n\u001b[1;32m      7\u001b[0m \u001b[0;32mfor\u001b[0m \u001b[0mi\u001b[0m \u001b[0;32min\u001b[0m \u001b[0mrange\u001b[0m\u001b[0;34m(\u001b[0m\u001b[0;36m5\u001b[0m\u001b[0;34m)\u001b[0m\u001b[0;34m:\u001b[0m\u001b[0;34m\u001b[0m\u001b[0;34m\u001b[0m\u001b[0m\n\u001b[0;32m----> 8\u001b[0;31m     \u001b[0mimg_path\u001b[0m \u001b[0;34m=\u001b[0m \u001b[0mtrain_image_paths\u001b[0m\u001b[0;34m[\u001b[0m\u001b[0mi\u001b[0m\u001b[0;34m]\u001b[0m\u001b[0;34m\u001b[0m\u001b[0;34m\u001b[0m\u001b[0m\n\u001b[0m\u001b[1;32m      9\u001b[0m     \u001b[0mimg\u001b[0m \u001b[0;34m=\u001b[0m \u001b[0mImage\u001b[0m\u001b[0;34m.\u001b[0m\u001b[0mopen\u001b[0m\u001b[0;34m(\u001b[0m\u001b[0mimg_path\u001b[0m\u001b[0;34m)\u001b[0m\u001b[0;34m\u001b[0m\u001b[0;34m\u001b[0m\u001b[0m\n\u001b[1;32m     10\u001b[0m \u001b[0;34m\u001b[0m\u001b[0m\n",
            "\u001b[0;31mNameError\u001b[0m: name 'train_image_paths' is not defined"
          ]
        },
        {
          "output_type": "display_data",
          "data": {
            "text/plain": [
              "<Figure size 2000x400 with 5 Axes>"
            ],
            "image/png": "[encoded data removed]"
          },
          "metadata": {}
        }
      ],
      "source": [
        "from PIL import Image\n",
        "import matplotlib.pyplot as plt\n",
        "\n",
        "# İlk 5 resmi yükleyin ve görselleştirin\n",
        "fig, axes = plt.subplots(1, 5, figsize=(20, 4))\n",
        "\n",
        "for i in range(5):\n",
        "    img_path = train_image_paths[i]\n",
        "    img = Image.open(img_path)\n",
        "\n",
        "    # Resmi görselleştirin\n",
        "    axes[i].imshow(img)\n",
        "    axes[i].set_title(f\"Label: {train_labels[i]}\")\n",
        "    axes[i].axis('off')\n",
        "\n",
        "    # Resmin şekline bakın\n",
        "    print(f\"Image {i+1} shape: {img.size}\")\n",
        "\n",
        "plt.tight_layout()\n",
        "plt.show()\n"
      ]
    },
    {
      "cell_type": "code",
      "execution_count": 12,
      "metadata": {
        "ExecuteTime": {
          "end_time": "2023-09-10T14:23:37.458680Z",
          "start_time": "2023-09-10T14:23:36.751113Z"
        },
        "colab": {
          "base_uri": "https://localhost:8080/",
          "height": 245
        },
        "id": "rxYRWxWto8t7",
        "outputId": "412ec907-6c64-486c-b42d-7e99485c5006"
      },
      "outputs": [
        {
          "output_type": "error",
          "ename": "NameError",
          "evalue": "ignored",
          "traceback": [
            "\u001b[0;31m---------------------------------------------------------------------------\u001b[0m",
            "\u001b[0;31mNameError\u001b[0m                                 Traceback (most recent call last)",
            "\u001b[0;32m<ipython-input-12-4eedc923af37>\u001b[0m in \u001b[0;36m<cell line: 17>\u001b[0;34m()\u001b[0m\n\u001b[1;32m     15\u001b[0m \u001b[0;34m\u001b[0m\u001b[0m\n\u001b[1;32m     16\u001b[0m \u001b[0;31m# Dosyaları yeni klasörlere taşıyın\u001b[0m\u001b[0;34m\u001b[0m\u001b[0;34m\u001b[0m\u001b[0m\n\u001b[0;32m---> 17\u001b[0;31m \u001b[0;32mfor\u001b[0m \u001b[0mi\u001b[0m\u001b[0;34m,\u001b[0m \u001b[0mimg_path\u001b[0m \u001b[0;32min\u001b[0m \u001b[0menumerate\u001b[0m\u001b[0;34m(\u001b[0m\u001b[0mtrain_image_paths\u001b[0m\u001b[0;34m)\u001b[0m\u001b[0;34m:\u001b[0m\u001b[0;34m\u001b[0m\u001b[0;34m\u001b[0m\u001b[0m\n\u001b[0m\u001b[1;32m     18\u001b[0m     \u001b[0mnew_path\u001b[0m \u001b[0;34m=\u001b[0m \u001b[0mos\u001b[0m\u001b[0;34m.\u001b[0m\u001b[0mpath\u001b[0m\u001b[0;34m.\u001b[0m\u001b[0mjoin\u001b[0m\u001b[0;34m(\u001b[0m\u001b[0mtrain_dir\u001b[0m\u001b[0;34m,\u001b[0m \u001b[0mtrain_labels\u001b[0m\u001b[0;34m[\u001b[0m\u001b[0mi\u001b[0m\u001b[0;34m]\u001b[0m\u001b[0;34m,\u001b[0m \u001b[0mos\u001b[0m\u001b[0;34m.\u001b[0m\u001b[0mpath\u001b[0m\u001b[0;34m.\u001b[0m\u001b[0mbasename\u001b[0m\u001b[0;34m(\u001b[0m\u001b[0mimg_path\u001b[0m\u001b[0;34m)\u001b[0m\u001b[0;34m)\u001b[0m\u001b[0;34m\u001b[0m\u001b[0;34m\u001b[0m\u001b[0m\n\u001b[1;32m     19\u001b[0m     \u001b[0mshutil\u001b[0m\u001b[0;34m.\u001b[0m\u001b[0mmove\u001b[0m\u001b[0;34m(\u001b[0m\u001b[0mimg_path\u001b[0m\u001b[0;34m,\u001b[0m \u001b[0mnew_path\u001b[0m\u001b[0;34m)\u001b[0m\u001b[0;34m\u001b[0m\u001b[0;34m\u001b[0m\u001b[0m\n",
            "\u001b[0;31mNameError\u001b[0m: name 'train_image_paths' is not defined"
          ]
        }
      ],
      "source": [
        "import shutil\n",
        "\n",
        "# Eğitim ve test setleri için klasör yollarını belirleyin\n",
        "train_dir = os.path.join(my_data_dir, 'train')\n",
        "test_dir = os.path.join(my_data_dir, 'test')\n",
        "\n",
        "# Eğitim ve test setleri için klasörleri oluşturun\n",
        "os.makedirs(train_dir, exist_ok=True)\n",
        "os.makedirs(test_dir, exist_ok=True)\n",
        "\n",
        "# Sınıflar için klasörleri oluşturun\n",
        "for class_name in classes:\n",
        "    os.makedirs(os.path.join(train_dir, class_name), exist_ok=True)\n",
        "    os.makedirs(os.path.join(test_dir, class_name), exist_ok=True)\n",
        "\n",
        "# Dosyaları yeni klasörlere taşıyın\n",
        "for i, img_path in enumerate(train_image_paths):\n",
        "    new_path = os.path.join(train_dir, train_labels[i], os.path.basename(img_path))\n",
        "    shutil.move(img_path, new_path)\n",
        "\n",
        "for i, img_path in enumerate(test_image_paths):\n",
        "    new_path = os.path.join(test_dir, test_labels[i], os.path.basename(img_path))\n",
        "    shutil.move(img_path, new_path)\n"
      ]
    },
    {
      "cell_type": "code",
      "execution_count": 13,
      "metadata": {
        "ExecuteTime": {
          "end_time": "2023-09-10T13:13:31.743062Z",
          "start_time": "2023-09-10T13:13:31.732065Z"
        },
        "colab": {
          "base_uri": "https://localhost:8080/"
        },
        "id": "3kKWCljeo8t_",
        "outputId": "5872e48b-b745-4b20-d1ec-27a7894bb56d"
      },
      "outputs": [
        {
          "output_type": "stream",
          "name": "stdout",
          "text": [
            "Max value: 238\n",
            "Min value: 0\n"
          ]
        }
      ],
      "source": [
        "import os\n",
        "import numpy as np\n",
        "from PIL import Image\n",
        "\n",
        "# Resimlerin bulunduğu dizini belirtin\n",
        "img_dir = '/content/drive/MyDrive/Colab Notebooks/flower_photos/train/daisy'\n",
        "\n",
        "# Dizindeki tüm dosya yollarını listeyin\n",
        "img_paths = [os.path.join(img_dir, fname) for fname in os.listdir(img_dir) if os.path.isfile(os.path.join(img_dir, fname))]\n",
        "\n",
        "# 4. resmin yolunu alın (indeksleme 0'dan başlar, bu yüzden 4. resim için indeks 3'ü kullanın)\n",
        "img_path = img_paths[0]\n",
        "\n",
        "# Resmi yükleyin\n",
        "img = Image.open(img_path)\n",
        "\n",
        "# Resmi bir Numpy dizisine dönüştürün\n",
        "img_array = np.array(img)\n",
        "\n",
        "# Dizinin maksimum ve minimum değerlerini bulun\n",
        "max_value = img_array.max()\n",
        "min_value = img_array.min()\n",
        "print(f\"Max value: {max_value}\")\n",
        "print(f\"Min value: {min_value}\")\n"
      ]
    },
    {
      "cell_type": "code",
      "execution_count": 14,
      "metadata": {
        "ExecuteTime": {
          "end_time": "2023-09-10T13:14:15.187415Z",
          "start_time": "2023-09-10T13:14:11.703192Z"
        },
        "colab": {
          "base_uri": "https://localhost:8080/",
          "height": 472
        },
        "id": "9iHqeCwjo8uJ",
        "outputId": "b654c51f-31c5-4378-904f-f6340a0223bd"
      },
      "outputs": [
        {
          "output_type": "display_data",
          "data": {
            "text/plain": [
              "<Figure size 640x480 with 1 Axes>"
            ],
            "image/png": "[encoded data removed]"
          },
          "metadata": {}
        }
      ],
      "source": [
        "import os\n",
        "from matplotlib import pyplot as plt\n",
        "import seaborn as sns\n",
        "\n",
        "train_dir='/content/drive/MyDrive/Colab Notebooks/flower_photos/train'\n",
        "os.listdir(my_data_dir)\n",
        "\n",
        "x = []\n",
        "y = []\n",
        "\n",
        "# Sınıflar için bir döngü başlatın\n",
        "for class_name in classes:\n",
        "    class_dir = os.path.join(train_dir, class_name)\n",
        "\n",
        "    # Her sınıfın resimleri için bir döngü başlatın\n",
        "    for image_name in os.listdir(class_dir):\n",
        "        if image_name.endswith('.jpg'):\n",
        "            img = plt.imread(os.path.join(class_dir, image_name))\n",
        "            d1, d2, colors = img.shape\n",
        "            x.append(d1)\n",
        "            y.append(d2)\n",
        "\n",
        "# Boyutları scatter plot ile görselleştirin\n",
        "sns.scatterplot(x=x, y=y)\n",
        "plt.xlabel('Width')\n",
        "plt.ylabel('Height')\n",
        "plt.title('Image Dimensions')\n",
        "plt.show()\n",
        "\n"
      ]
    },
    {
      "cell_type": "markdown",
      "metadata": {
        "id": "MW7f2zuco8uL"
      },
      "source": [
        "**Let's decide on the final dimension of these images.**"
      ]
    },
    {
      "cell_type": "code",
      "execution_count": 15,
      "metadata": {
        "ExecuteTime": {
          "end_time": "2023-09-10T13:26:55.638145Z",
          "start_time": "2023-09-10T13:26:55.622518Z"
        },
        "colab": {
          "base_uri": "https://localhost:8080/"
        },
        "id": "zj_yURCoo8uM",
        "outputId": "dc7cd850-b6b5-4ccb-f641-c445d7f90977"
      },
      "outputs": [
        {
          "output_type": "stream",
          "name": "stdout",
          "text": [
            "271.4713896457766\n",
            "364.5572207084469\n"
          ]
        }
      ],
      "source": [
        "print(np.mean(x))\n",
        "print(np.mean(y))"
      ]
    },
    {
      "cell_type": "code",
      "execution_count": 16,
      "metadata": {
        "ExecuteTime": {
          "end_time": "2023-09-10T13:57:14.713343Z",
          "start_time": "2023-09-10T13:57:14.710342Z"
        },
        "id": "0RXl7hueo8uP"
      },
      "outputs": [],
      "source": [
        "image_shape = (256,256,3)"
      ]
    },
    {
      "cell_type": "code",
      "execution_count": null,
      "metadata": {
        "ExecuteTime": {
          "end_time": "2023-09-09T10:49:15.065581Z",
          "start_time": "2023-09-09T10:49:15.056032Z"
        },
        "id": "BhXGx0qko8uQ"
      },
      "outputs": [],
      "source": [
        "# help(ImageDataGenerator)"
      ]
    },
    {
      "cell_type": "code",
      "execution_count": 17,
      "metadata": {
        "ExecuteTime": {
          "end_time": "2023-09-10T14:32:00.613257Z",
          "start_time": "2023-09-10T14:32:00.469974Z"
        },
        "colab": {
          "base_uri": "https://localhost:8080/"
        },
        "id": "zxMxnmP6o8uS",
        "outputId": "52382146-4636-4c5f-d836-2c88ac74d6a5"
      },
      "outputs": [
        {
          "output_type": "stream",
          "name": "stdout",
          "text": [
            "Found 2936 images belonging to 5 classes.\n",
            "Found 734 images belonging to 5 classes.\n"
          ]
        }
      ],
      "source": [
        "from tensorflow.keras.preprocessing.image import ImageDataGenerator\n",
        "\n",
        "image_gen = ImageDataGenerator(rotation_range=20, # rotate the image 20 degrees\n",
        "                               width_shift_range=0.10, # Shift the pic width by a max of 10%\n",
        "                               height_shift_range=0.10, # Shift the pic height by a max of 10%\n",
        "                               rescale=1/255, # Rescale the image by normalzing it.\n",
        "                               shear_range=0.1, # Shear means cutting away part of the image (max 10%)\n",
        "                               zoom_range=0.1, # Zoom in by 10% max\n",
        "                               horizontal_flip=True, # Allo horizontal flipping\n",
        "                               fill_mode='nearest' # Fill in missing pixels with the nearest filled value\n",
        "                              )\n",
        "\n",
        "batch_size = 32\n",
        "\n",
        "train_image_gen = image_gen.flow_from_directory(train_dir,\n",
        "                                               target_size=(256,256),\n",
        "                                               color_mode='rgb',\n",
        "                                               batch_size=batch_size,\n",
        "                                               class_mode='categorical',\n",
        "                                               shuffle=True)\n",
        "\n",
        "test_image_gen = image_gen.flow_from_directory(test_dir,\n",
        "                                               target_size=(256,256),\n",
        "                                               color_mode='rgb',\n",
        "                                               batch_size=batch_size,\n",
        "                                               class_mode='categorical',\n",
        "                                               shuffle=True)"
      ]
    },
    {
      "cell_type": "markdown",
      "metadata": {
        "id": "x8o0GGsao8uU"
      },
      "source": [
        "# Creating the Model"
      ]
    },
    {
      "cell_type": "code",
      "execution_count": 18,
      "metadata": {
        "ExecuteTime": {
          "end_time": "2023-09-10T14:14:10.559927Z",
          "start_time": "2023-09-10T14:14:10.399181Z"
        },
        "colab": {
          "base_uri": "https://localhost:8080/"
        },
        "id": "x_hTBiM7o8uY",
        "outputId": "99570c45-d8f9-40a7-fe60-cbe467abbb38"
      },
      "outputs": [
        {
          "output_type": "stream",
          "name": "stdout",
          "text": [
            "Model: \"sequential\"\n",
            "_________________________________________________________________\n",
            " Layer (type)                Output Shape              Param #   \n",
            "=================================================================\n",
            " conv2d (Conv2D)             (None, 256, 256, 64)      1792      \n",
            "                                                                 \n",
            " max_pooling2d (MaxPooling2  (None, 128, 128, 64)      0         \n",
            " D)                                                              \n",
            "                                                                 \n",
            " conv2d_1 (Conv2D)           (None, 128, 128, 128)     73856     \n",
            "                                                                 \n",
            " max_pooling2d_1 (MaxPoolin  (None, 64, 64, 128)       0         \n",
            " g2D)                                                            \n",
            "                                                                 \n",
            " conv2d_2 (Conv2D)           (None, 64, 64, 128)       147584    \n",
            "                                                                 \n",
            " max_pooling2d_2 (MaxPoolin  (None, 32, 32, 128)       0         \n",
            " g2D)                                                            \n",
            "                                                                 \n",
            " conv2d_3 (Conv2D)           (None, 32, 32, 256)       295168    \n",
            "                                                                 \n",
            " conv2d_4 (Conv2D)           (None, 32, 32, 256)       590080    \n",
            "                                                                 \n",
            " conv2d_5 (Conv2D)           (None, 32, 32, 256)       590080    \n",
            "                                                                 \n",
            " max_pooling2d_3 (MaxPoolin  (None, 16, 16, 256)       0         \n",
            " g2D)                                                            \n",
            "                                                                 \n",
            " conv2d_6 (Conv2D)           (None, 16, 16, 128)       295040    \n",
            "                                                                 \n",
            " max_pooling2d_4 (MaxPoolin  (None, 8, 8, 128)         0         \n",
            " g2D)                                                            \n",
            "                                                                 \n",
            " conv2d_7 (Conv2D)           (None, 8, 8, 64)          73792     \n",
            "                                                                 \n",
            " max_pooling2d_5 (MaxPoolin  (None, 4, 4, 64)          0         \n",
            " g2D)                                                            \n",
            "                                                                 \n",
            " flatten (Flatten)           (None, 1024)              0         \n",
            "                                                                 \n",
            " dense (Dense)               (None, 128)               131200    \n",
            "                                                                 \n",
            " activation (Activation)     (None, 128)               0         \n",
            "                                                                 \n",
            " dropout (Dropout)           (None, 128)               0         \n",
            "                                                                 \n",
            " dense_1 (Dense)             (None, 5)                 645       \n",
            "                                                                 \n",
            "=================================================================\n",
            "Total params: 2199237 (8.39 MB)\n",
            "Trainable params: 2199237 (8.39 MB)\n",
            "Non-trainable params: 0 (0.00 Byte)\n",
            "_________________________________________________________________\n"
          ]
        }
      ],
      "source": [
        "from tensorflow.keras.models import Sequential\n",
        "from tensorflow.keras.layers import Activation, Dropout, Flatten, Dense, Conv2D, MaxPooling2D, BatchNormalization\n",
        "from tensorflow.keras.applications.resnet import ResNet152, preprocess_input, decode_predictions\n",
        "from tensorflow.keras.callbacks import EarlyStopping, ModelCheckpoint\n",
        "\n",
        "model = Sequential()\n",
        "\n",
        "model.add(Conv2D(filters=64, kernel_size=(3,3),input_shape=image_shape, padding='same', activation='relu',))\n",
        "model.add(MaxPooling2D(pool_size=(2, 2)))\n",
        "\n",
        "model.add(Conv2D(filters=128, kernel_size=(3,3), padding='same', activation='relu',))\n",
        "model.add(MaxPooling2D(pool_size=(2, 2)))\n",
        "\n",
        "model.add(Conv2D(filters=128, kernel_size=(3,3), padding='same', activation='relu',))\n",
        "model.add(MaxPooling2D(pool_size=(2, 2)))\n",
        "\n",
        "model.add(Conv2D(filters=256, kernel_size=(3,3), padding='same', activation='relu',))\n",
        "model.add(Conv2D(filters=256, kernel_size=(3,3), padding='same', activation='relu',))\n",
        "model.add(Conv2D(filters=256, kernel_size=(3,3), padding='same', activation='relu',))\n",
        "model.add(MaxPooling2D(pool_size=(2, 2)))\n",
        "\n",
        "model.add(Conv2D(filters=128, kernel_size=(3,3), padding='same', activation='relu',))\n",
        "model.add(MaxPooling2D(pool_size=(2, 2)))\n",
        "\n",
        "model.add(Conv2D(filters=64, kernel_size=(3,3), padding='same', activation='relu',))\n",
        "model.add(MaxPooling2D(pool_size=(2, 2)))\n",
        "\n",
        "\n",
        "model.add(Flatten())\n",
        "\n",
        "\n",
        "model.add(Dense(128))\n",
        "model.add(Activation('relu'))\n",
        "\n",
        "model.add(Dropout(0.5))\n",
        "\n",
        "model.add(Dense(5, activation='softmax'))\n",
        "\n",
        "model.compile(loss='categorical_crossentropy',\n",
        "              optimizer='adam',\n",
        "              metrics=['accuracy'])\n",
        "\n",
        "# Callbacks:\n",
        "early_stop = EarlyStopping(monitor='val_loss',patience=10)\n",
        "checkpoint = ModelCheckpoint('best_model.h5', monitor='val_loss', verbose=1, save_best_only=True, mode='min')\n",
        "\n",
        "model.summary()"
      ]
    },
    {
      "cell_type": "code",
      "execution_count": 19,
      "metadata": {
        "ExecuteTime": {
          "start_time": "2023-09-10T14:32:16.820Z"
        },
        "colab": {
          "base_uri": "https://localhost:8080/"
        },
        "id": "pTBnYUWZo8uV",
        "outputId": "329a1feb-9e66-4fb9-ab6c-530ad8d45c6e"
      },
      "outputs": [
        {
          "metadata": {
            "tags": null
          },
          "name": "stdout",
          "output_type": "stream",
          "text": [
            "Epoch 1/20\n",
            "92/92 [==============================] - ETA: 0s - loss: 1.5557 - accuracy: 0.2568\n",
            "Epoch 1: val_loss improved from inf to 1.34060, saving model to best_model.h5\n",
            "92/92 [==============================] - 244s 2s/step - loss: 1.5557 - accuracy: 0.2568 - val_loss: 1.3406 - val_accuracy: 0.3774\n",
            "Epoch 2/20\n"
          ]
        },
        {
          "metadata": {
            "tags": null
          },
          "name": "stderr",
          "output_type": "stream",
          "text": [
            "/usr/local/lib/python3.10/dist-packages/keras/src/engine/training.py:3000: UserWarning: You are saving your model as an HDF5 file via `model.save()`. This file format is considered legacy. We recommend using instead the native Keras format, e.g. `model.save('my_model.keras')`.\n",
            "  saving_api.save_model(\n"
          ]
        },
        {
          "output_type": "stream",
          "name": "stdout",
          "text": [
            "92/92 [==============================] - ETA: 0s - loss: 1.3468 - accuracy: 0.4401\n",
            "Epoch 2: val_loss improved from 1.34060 to 1.16852, saving model to best_model.h5\n",
            "92/92 [==============================] - 69s 753ms/step - loss: 1.3468 - accuracy: 0.4401 - val_loss: 1.1685 - val_accuracy: 0.4850\n",
            "Epoch 3/20\n",
            "92/92 [==============================] - ETA: 0s - loss: 1.1680 - accuracy: 0.5232\n",
            "Epoch 3: val_loss improved from 1.16852 to 1.06904, saving model to best_model.h5\n",
            "92/92 [==============================] - 70s 758ms/step - loss: 1.1680 - accuracy: 0.5232 - val_loss: 1.0690 - val_accuracy: 0.5572\n",
            "Epoch 4/20\n",
            "92/92 [==============================] - ETA: 0s - loss: 1.0743 - accuracy: 0.5698\n",
            "Epoch 4: val_loss improved from 1.06904 to 0.98317, saving model to best_model.h5\n",
            "92/92 [==============================] - 70s 767ms/step - loss: 1.0743 - accuracy: 0.5698 - val_loss: 0.9832 - val_accuracy: 0.5613\n",
            "Epoch 5/20\n",
            "92/92 [==============================] - ETA: 0s - loss: 1.0058 - accuracy: 0.5974\n",
            "Epoch 5: val_loss did not improve from 0.98317\n",
            "92/92 [==============================] - 69s 746ms/step - loss: 1.0058 - accuracy: 0.5974 - val_loss: 1.0101 - val_accuracy: 0.5763\n",
            "Epoch 6/20\n",
            "92/92 [==============================] - ETA: 0s - loss: 0.9899 - accuracy: 0.6080\n",
            "Epoch 6: val_loss improved from 0.98317 to 0.87393, saving model to best_model.h5\n",
            "92/92 [==============================] - 68s 742ms/step - loss: 0.9899 - accuracy: 0.6080 - val_loss: 0.8739 - val_accuracy: 0.6431\n",
            "Epoch 7/20\n",
            "92/92 [==============================] - ETA: 0s - loss: 0.9115 - accuracy: 0.6448\n",
            "Epoch 7: val_loss did not improve from 0.87393\n",
            "92/92 [==============================] - 69s 747ms/step - loss: 0.9115 - accuracy: 0.6448 - val_loss: 0.9493 - val_accuracy: 0.6213\n",
            "Epoch 8/20\n",
            "92/92 [==============================] - ETA: 0s - loss: 0.8776 - accuracy: 0.6543\n",
            "Epoch 8: val_loss improved from 0.87393 to 0.83447, saving model to best_model.h5\n",
            "92/92 [==============================] - 71s 776ms/step - loss: 0.8776 - accuracy: 0.6543 - val_loss: 0.8345 - val_accuracy: 0.6553\n",
            "Epoch 9/20\n",
            "92/92 [==============================] - ETA: 0s - loss: 0.8434 - accuracy: 0.6645\n",
            "Epoch 9: val_loss improved from 0.83447 to 0.80094, saving model to best_model.h5\n",
            "92/92 [==============================] - 68s 741ms/step - loss: 0.8434 - accuracy: 0.6645 - val_loss: 0.8009 - val_accuracy: 0.6826\n",
            "Epoch 10/20\n",
            "92/92 [==============================] - ETA: 0s - loss: 0.7843 - accuracy: 0.6931\n",
            "Epoch 10: val_loss did not improve from 0.80094\n",
            "92/92 [==============================] - 68s 743ms/step - loss: 0.7843 - accuracy: 0.6931 - val_loss: 0.8115 - val_accuracy: 0.6512\n",
            "Epoch 11/20\n",
            "92/92 [==============================] - ETA: 0s - loss: 0.8044 - accuracy: 0.6941\n",
            "Epoch 11: val_loss did not improve from 0.80094\n",
            "92/92 [==============================] - 68s 741ms/step - loss: 0.8044 - accuracy: 0.6941 - val_loss: 0.8025 - val_accuracy: 0.6771\n",
            "Epoch 12/20\n",
            "92/92 [==============================] - ETA: 0s - loss: 0.7815 - accuracy: 0.7006\n",
            "Epoch 12: val_loss did not improve from 0.80094\n",
            "92/92 [==============================] - 70s 758ms/step - loss: 0.7815 - accuracy: 0.7006 - val_loss: 0.8515 - val_accuracy: 0.6730\n",
            "Epoch 13/20\n",
            "92/92 [==============================] - ETA: 0s - loss: 0.7762 - accuracy: 0.7006\n",
            "Epoch 13: val_loss did not improve from 0.80094\n",
            "92/92 [==============================] - 68s 739ms/step - loss: 0.7762 - accuracy: 0.7006 - val_loss: 0.8025 - val_accuracy: 0.6948\n",
            "Epoch 14/20\n",
            "92/92 [==============================] - ETA: 0s - loss: 0.7463 - accuracy: 0.7238\n",
            "Epoch 14: val_loss improved from 0.80094 to 0.76966, saving model to best_model.h5\n",
            "92/92 [==============================] - 68s 744ms/step - loss: 0.7463 - accuracy: 0.7238 - val_loss: 0.7697 - val_accuracy: 0.7057\n",
            "Epoch 15/20\n",
            "92/92 [==============================] - ETA: 0s - loss: 0.7494 - accuracy: 0.7153\n",
            "Epoch 15: val_loss did not improve from 0.76966\n",
            "92/92 [==============================] - 67s 734ms/step - loss: 0.7494 - accuracy: 0.7153 - val_loss: 0.9040 - val_accuracy: 0.6294\n",
            "Epoch 16/20\n",
            "92/92 [==============================] - ETA: 0s - loss: 0.7235 - accuracy: 0.7214\n",
            "Epoch 16: val_loss did not improve from 0.76966\n",
            "92/92 [==============================] - 67s 726ms/step - loss: 0.7235 - accuracy: 0.7214 - val_loss: 0.8770 - val_accuracy: 0.7016\n",
            "Epoch 17/20\n",
            "92/92 [==============================] - ETA: 0s - loss: 0.7094 - accuracy: 0.7309\n",
            "Epoch 17: val_loss improved from 0.76966 to 0.73442, saving model to best_model.h5\n",
            "92/92 [==============================] - 66s 722ms/step - loss: 0.7094 - accuracy: 0.7309 - val_loss: 0.7344 - val_accuracy: 0.7371\n",
            "Epoch 18/20\n",
            "92/92 [==============================] - ETA: 0s - loss: 0.6729 - accuracy: 0.7388\n",
            "Epoch 18: val_loss improved from 0.73442 to 0.72137, saving model to best_model.h5\n",
            "92/92 [==============================] - 66s 722ms/step - loss: 0.6729 - accuracy: 0.7388 - val_loss: 0.7214 - val_accuracy: 0.7139\n",
            "Epoch 19/20\n",
            "92/92 [==============================] - ETA: 0s - loss: 0.6621 - accuracy: 0.7510\n",
            "Epoch 19: val_loss did not improve from 0.72137\n",
            "92/92 [==============================] - 66s 720ms/step - loss: 0.6621 - accuracy: 0.7510 - val_loss: 0.7233 - val_accuracy: 0.7057\n",
            "Epoch 20/20\n",
            "92/92 [==============================] - ETA: 0s - loss: 0.6420 - accuracy: 0.7633\n",
            "Epoch 20: val_loss did not improve from 0.72137\n",
            "92/92 [==============================] - 67s 733ms/step - loss: 0.6420 - accuracy: 0.7633 - val_loss: 0.7503 - val_accuracy: 0.7098\n"
          ]
        }
      ],
      "source": [
        "results = model.fit(train_image_gen,epochs=20,\n",
        "                    validation_data=test_image_gen,\n",
        "                    callbacks=[early_stop, checkpoint])"
      ]
    },
    {
      "cell_type": "code",
      "execution_count": null,
      "metadata": {
        "id": "M_Niq0MBo8uW"
      },
      "outputs": [],
      "source": []
    },
    {
      "cell_type": "code",
      "execution_count": null,
      "metadata": {
        "id": "9LrIj5YGo8uX"
      },
      "outputs": [],
      "source": []
    },
    {
      "cell_type": "code",
      "execution_count": null,
      "metadata": {
        "id": "sq_Rs_ZVo8uX"
      },
      "outputs": [],
      "source": []
    },
    {
      "cell_type": "code",
      "execution_count": null,
      "metadata": {
        "id": "cdFVUK03o8uY"
      },
      "outputs": [],
      "source": []
    },
    {
      "cell_type": "markdown",
      "metadata": {
        "id": "9mw1_Pqbo8ua"
      },
      "source": [
        "## Model Training"
      ]
    },
    {
      "cell_type": "markdown",
      "metadata": {
        "id": "qIr6zs71o8ub"
      },
      "source": [
        "# Evaluating the Model"
      ]
    },
    {
      "cell_type": "code",
      "execution_count": 20,
      "metadata": {
        "colab": {
          "base_uri": "https://localhost:8080/",
          "height": 206
        },
        "id": "hYZHdpxZo8uc",
        "outputId": "d3e682c3-3d20-4497-a746-445abe3089c9"
      },
      "outputs": [
        {
          "output_type": "execute_result",
          "data": {
            "text/plain": [
              "       loss  accuracy  val_loss  val_accuracy\n",
              "0  1.555749  0.256812  1.340603      0.377384\n",
              "1  1.346771  0.440055  1.168520      0.485014\n",
              "2  1.167984  0.523161  1.069036      0.557221\n",
              "3  1.074343  0.569823  0.983171      0.561308\n",
              "4  1.005750  0.597411  1.010105      0.576294"
            ],
            "text/html": [
              "\n",
              "  <div id=\"df-d785a5c3-dc7f-443b-936a-c97b04376ad2\" class=\"colab-df-container\">\n",
              "    <div>\n",
              "<style scoped>\n",
              "    .dataframe tbody tr th:only-of-type {\n",
              "        vertical-align: middle;\n",
              "    }\n",
              "\n",
              "    .dataframe tbody tr th {\n",
              "        vertical-align: top;\n",
              "    }\n",
              "\n",
              "    .dataframe thead th {\n",
              "        text-align: right;\n",
              "    }\n",
              "</style>\n",
              "<table border=\"1\" class=\"dataframe\">\n",
              "  <thead>\n",
              "    <tr style=\"text-align: right;\">\n",
              "      <th></th>\n",
              "      <th>loss</th>\n",
              "      <th>accuracy</th>\n",
              "      <th>val_loss</th>\n",
              "      <th>val_accuracy</th>\n",
              "    </tr>\n",
              "  </thead>\n",
              "  <tbody>\n",
              "    <tr>\n",
              "      <th>0</th>\n",
              "      <td>1.555749</td>\n",
              "      <td>0.256812</td>\n",
              "      <td>1.340603</td>\n",
              "      <td>0.377384</td>\n",
              "    </tr>\n",
              "    <tr>\n",
              "      <th>1</th>\n",
              "      <td>1.346771</td>\n",
              "      <td>0.440055</td>\n",
              "      <td>1.168520</td>\n",
              "      <td>0.485014</td>\n",
              "    </tr>\n",
              "    <tr>\n",
              "      <th>2</th>\n",
              "      <td>1.167984</td>\n",
              "      <td>0.523161</td>\n",
              "      <td>1.069036</td>\n",
              "      <td>0.557221</td>\n",
              "    </tr>\n",
              "    <tr>\n",
              "      <th>3</th>\n",
              "      <td>1.074343</td>\n",
              "      <td>0.569823</td>\n",
              "      <td>0.983171</td>\n",
              "      <td>0.561308</td>\n",
              "    </tr>\n",
              "    <tr>\n",
              "      <th>4</th>\n",
              "      <td>1.005750</td>\n",
              "      <td>0.597411</td>\n",
              "      <td>1.010105</td>\n",
              "      <td>0.576294</td>\n",
              "    </tr>\n",
              "  </tbody>\n",
              "</table>\n",
              "</div>\n",
              "    <div class=\"colab-df-buttons\">\n",
              "\n",
              "  <div class=\"colab-df-container\">\n",
              "    <button class=\"colab-df-convert\" onclick=\"convertToInteractive('df-d785a5c3-dc7f-443b-936a-c97b04376ad2')\"\n",
              "            title=\"Convert this dataframe to an interactive table.\"\n",
              "            style=\"display:none;\">\n",
              "\n",
              "  <svg xmlns=\"http://www.w3.org/2000/svg\" height=\"24px\" viewBox=\"0 -960 960 960\">\n",
              "    <path d=\"M120-120v-720h720v720H120Zm60-500h600v-160H180v160Zm220 220h160v-160H400v160Zm0 220h160v-160H400v160ZM180-400h160v-160H180v160Zm440 0h160v-160H620v160ZM180-180h160v-160H180v160Zm440 0h160v-160H620v160Z\"/>\n",
              "  </svg>\n",
              "    </button>\n",
              "\n",
              "  <style>\n",
              "    .colab-df-container {\n",
              "      display:flex;\n",
              "      gap: 12px;\n",
              "    }\n",
              "\n",
              "    .colab-df-convert {\n",
              "      background-color: #E8F0FE;\n",
              "      border: none;\n",
              "      border-radius: 50%;\n",
              "      cursor: pointer;\n",
              "      display: none;\n",
              "      fill: #1967D2;\n",
              "      height: 32px;\n",
              "      padding: 0 0 0 0;\n",
              "      width: 32px;\n",
              "    }\n",
              "\n",
              "    .colab-df-convert:hover {\n",
              "      background-color: #E2EBFA;\n",
              "      box-shadow: 0px 1px 2px rgba(60, 64, 67, 0.3), 0px 1px 3px 1px rgba(60, 64, 67, 0.15);\n",
              "      fill: #174EA6;\n",
              "    }\n",
              "\n",
              "    .colab-df-buttons div {\n",
              "      margin-bottom: 4px;\n",
              "    }\n",
              "\n",
              "    [theme=dark] .colab-df-convert {\n",
              "      background-color: #3B4455;\n",
              "      fill: #D2E3FC;\n",
              "    }\n",
              "\n",
              "    [theme=dark] .colab-df-convert:hover {\n",
              "      background-color: #434B5C;\n",
              "      box-shadow: 0px 1px 3px 1px rgba(0, 0, 0, 0.15);\n",
              "      filter: drop-shadow(0px 1px 2px rgba(0, 0, 0, 0.3));\n",
              "      fill: #FFFFFF;\n",
              "    }\n",
              "  </style>\n",
              "\n",
              "    <script>\n",
              "      const buttonEl =\n",
              "        document.querySelector('#df-d785a5c3-dc7f-443b-936a-c97b04376ad2 button.colab-df-convert');\n",
              "      buttonEl.style.display =\n",
              "        google.colab.kernel.accessAllowed ? 'block' : 'none';\n",
              "\n",
              "      async function convertToInteractive(key) {\n",
              "        const element = document.querySelector('#df-d785a5c3-dc7f-443b-936a-c97b04376ad2');\n",
              "        const dataTable =\n",
              "          await google.colab.kernel.invokeFunction('convertToInteractive',\n",
              "                                                    [key], {});\n",
              "        if (!dataTable) return;\n",
              "\n",
              "        const docLinkHtml = 'Like what you see? Visit the ' +\n",
              "          '<a target=\"_blank\" href=https://colab.research.google.com/notebooks/data_table.ipynb>data table notebook</a>'\n",
              "          + ' to learn more about interactive tables.';\n",
              "        element.innerHTML = '';\n",
              "        dataTable['output_type'] = 'display_data';\n",
              "        await google.colab.output.renderOutput(dataTable, element);\n",
              "        const docLink = document.createElement('div');\n",
              "        docLink.innerHTML = docLinkHtml;\n",
              "        element.appendChild(docLink);\n",
              "      }\n",
              "    </script>\n",
              "  </div>\n",
              "\n",
              "\n",
              "<div id=\"df-1a35fa37-bac1-46d3-a921-140d570f3525\">\n",
              "  <button class=\"colab-df-quickchart\" onclick=\"quickchart('df-1a35fa37-bac1-46d3-a921-140d570f3525')\"\n",
              "            title=\"Suggest charts.\"\n",
              "            style=\"display:none;\">\n",
              "\n",
              "<svg xmlns=\"http://www.w3.org/2000/svg\" height=\"24px\"viewBox=\"0 0 24 24\"\n",
              "     width=\"24px\">\n",
              "    <g>\n",
              "        <path d=\"M19 3H5c-1.1 0-2 .9-2 2v14c0 1.1.9 2 2 2h14c1.1 0 2-.9 2-2V5c0-1.1-.9-2-2-2zM9 17H7v-7h2v7zm4 0h-2V7h2v10zm4 0h-2v-4h2v4z\"/>\n",
              "    </g>\n",
              "</svg>\n",
              "  </button>\n",
              "\n",
              "<style>\n",
              "  .colab-df-quickchart {\n",
              "      --bg-color: #E8F0FE;\n",
              "      --fill-color: #1967D2;\n",
              "      --hover-bg-color: #E2EBFA;\n",
              "      --hover-fill-color: #174EA6;\n",
              "      --disabled-fill-color: #AAA;\n",
              "      --disabled-bg-color: #DDD;\n",
              "  }\n",
              "\n",
              "  [theme=dark] .colab-df-quickchart {\n",
              "      --bg-color: #3B4455;\n",
              "      --fill-color: #D2E3FC;\n",
              "      --hover-bg-color: #434B5C;\n",
              "      --hover-fill-color: #FFFFFF;\n",
              "      --disabled-bg-color: #3B4455;\n",
              "      --disabled-fill-color: #666;\n",
              "  }\n",
              "\n",
              "  .colab-df-quickchart {\n",
              "    background-color: var(--bg-color);\n",
              "    border: none;\n",
              "    border-radius: 50%;\n",
              "    cursor: pointer;\n",
              "    display: none;\n",
              "    fill: var(--fill-color);\n",
              "    height: 32px;\n",
              "    padding: 0;\n",
              "    width: 32px;\n",
              "  }\n",
              "\n",
              "  .colab-df-quickchart:hover {\n",
              "    background-color: var(--hover-bg-color);\n",
              "    box-shadow: 0 1px 2px rgba(60, 64, 67, 0.3), 0 1px 3px 1px rgba(60, 64, 67, 0.15);\n",
              "    fill: var(--button-hover-fill-color);\n",
              "  }\n",
              "\n",
              "  .colab-df-quickchart-complete:disabled,\n",
              "  .colab-df-quickchart-complete:disabled:hover {\n",
              "    background-color: var(--disabled-bg-color);\n",
              "    fill: var(--disabled-fill-color);\n",
              "    box-shadow: none;\n",
              "  }\n",
              "\n",
              "  .colab-df-spinner {\n",
              "    border: 2px solid var(--fill-color);\n",
              "    border-color: transparent;\n",
              "    border-bottom-color: var(--fill-color);\n",
              "    animation:\n",
              "      spin 1s steps(1) infinite;\n",
              "  }\n",
              "\n",
              "  @keyframes spin {\n",
              "    0% {\n",
              "      border-color: transparent;\n",
              "      border-bottom-color: var(--fill-color);\n",
              "      border-left-color: var(--fill-color);\n",
              "    }\n",
              "    20% {\n",
              "      border-color: transparent;\n",
              "      border-left-color: var(--fill-color);\n",
              "      border-top-color: var(--fill-color);\n",
              "    }\n",
              "    30% {\n",
              "      border-color: transparent;\n",
              "      border-left-color: var(--fill-color);\n",
              "      border-top-color: var(--fill-color);\n",
              "      border-right-color: var(--fill-color);\n",
              "    }\n",
              "    40% {\n",
              "      border-color: transparent;\n",
              "      border-right-color: var(--fill-color);\n",
              "      border-top-color: var(--fill-color);\n",
              "    }\n",
              "    60% {\n",
              "      border-color: transparent;\n",
              "      border-right-color: var(--fill-color);\n",
              "    }\n",
              "    80% {\n",
              "      border-color: transparent;\n",
              "      border-right-color: var(--fill-color);\n",
              "      border-bottom-color: var(--fill-color);\n",
              "    }\n",
              "    90% {\n",
              "      border-color: transparent;\n",
              "      border-bottom-color: var(--fill-color);\n",
              "    }\n",
              "  }\n",
              "</style>\n",
              "\n",
              "  <script>\n",
              "    async function quickchart(key) {\n",
              "      const quickchartButtonEl =\n",
              "        document.querySelector('#' + key + ' button');\n",
              "      quickchartButtonEl.disabled = true;  // To prevent multiple clicks.\n",
              "      quickchartButtonEl.classList.add('colab-df-spinner');\n",
              "      try {\n",
              "        const charts = await google.colab.kernel.invokeFunction(\n",
              "            'suggestCharts', [key], {});\n",
              "      } catch (error) {\n",
              "        console.error('Error during call to suggestCharts:', error);\n",
              "      }\n",
              "      quickchartButtonEl.classList.remove('colab-df-spinner');\n",
              "      quickchartButtonEl.classList.add('colab-df-quickchart-complete');\n",
              "    }\n",
              "    (() => {\n",
              "      let quickchartButtonEl =\n",
              "        document.querySelector('#df-1a35fa37-bac1-46d3-a921-140d570f3525 button');\n",
              "      quickchartButtonEl.style.display =\n",
              "        google.colab.kernel.accessAllowed ? 'block' : 'none';\n",
              "    })();\n",
              "  </script>\n",
              "</div>\n",
              "    </div>\n",
              "  </div>\n"
            ]
          },
          "metadata": {},
          "execution_count": 20
        }
      ],
      "source": [
        "summary = pd.DataFrame(model.history.history)\n",
        "summary.head()"
      ]
    },
    {
      "cell_type": "code",
      "execution_count": 21,
      "metadata": {
        "colab": {
          "base_uri": "https://localhost:8080/",
          "height": 547
        },
        "id": "1r_uY3X-o8vA",
        "outputId": "e1531ee6-9d25-4121-e4b5-e38636ae00fd"
      },
      "outputs": [
        {
          "output_type": "display_data",
          "data": {
            "text/plain": [
              "<Figure size 1000x600 with 1 Axes>"
            ],
            "image/png": "[encoded data removed]"
          },
          "metadata": {}
        }
      ],
      "source": [
        "plt.figure(figsize=(10,6))\n",
        "plt.plot(summary.loss, label=\"loss\")\n",
        "plt.plot(summary.val_loss, label=\"val_loss\")\n",
        "plt.legend(loc=\"upper right\")\n",
        "plt.ylabel(\"Loss\")\n",
        "plt.xlabel(\"Epoch\")\n",
        "plt.show()"
      ]
    },
    {
      "cell_type": "code",
      "execution_count": 22,
      "metadata": {
        "colab": {
          "base_uri": "https://localhost:8080/",
          "height": 542
        },
        "id": "s8zn7_XMo8vB",
        "outputId": "f26b5740-59ab-406e-f803-611cc04ac4df"
      },
      "outputs": [
        {
          "output_type": "display_data",
          "data": {
            "text/plain": [
              "<Figure size 1000x600 with 1 Axes>"
            ],
            "image/png": "[encoded data removed]"
          },
          "metadata": {}
        }
      ],
      "source": [
        "plt.figure(figsize=(10,6))\n",
        "plt.plot(summary.accuracy, label=\"accuracy\")\n",
        "plt.plot(summary.val_accuracy, label=\"val_accuracy\")\n",
        "plt.legend(loc=\"upper left\")\n",
        "plt.ylabel(\"Accuracy\")\n",
        "plt.xlabel(\"Epoch\")\n",
        "plt.show()"
      ]
    },
    {
      "cell_type": "code",
      "execution_count": 23,
      "metadata": {
        "colab": {
          "base_uri": "https://localhost:8080/"
        },
        "id": "LFXxx9DKo8vB",
        "outputId": "3c4ddb03-0253-4fb5-efb9-103f5d8ebc17"
      },
      "outputs": [
        {
          "output_type": "execute_result",
          "data": {
            "text/plain": [
              "['loss', 'accuracy']"
            ]
          },
          "metadata": {},
          "execution_count": 23
        }
      ],
      "source": [
        "model.metrics_names"
      ]
    },
    {
      "cell_type": "code",
      "execution_count": 28,
      "metadata": {
        "colab": {
          "base_uri": "https://localhost:8080/"
        },
        "id": "-MuOMJIco8vI",
        "outputId": "e139f6d5-aef1-4b83-b22d-3747aa31a4c7"
      },
      "outputs": [
        {
          "output_type": "stream",
          "name": "stdout",
          "text": [
            "23/23 [==============================] - 22s 932ms/step - loss: 0.7201 - accuracy: 0.7302\n"
          ]
        },
        {
          "output_type": "execute_result",
          "data": {
            "text/plain": [
              "[0.7201058268547058, 0.7302452325820923]"
            ]
          },
          "metadata": {},
          "execution_count": 28
        }
      ],
      "source": [
        "model.evaluate(test_image_gen)"
      ]
    },
    {
      "cell_type": "code",
      "execution_count": 29,
      "metadata": {
        "colab": {
          "base_uri": "https://localhost:8080/"
        },
        "id": "3nuP09TOo8vj",
        "outputId": "0ca06180-4346-4e5e-a2e0-9063e3d96471"
      },
      "outputs": [
        {
          "output_type": "stream",
          "name": "stdout",
          "text": [
            "23/23 [==============================] - 14s 588ms/step\n"
          ]
        }
      ],
      "source": [
        "pred_probabilities = model.predict(test_image_gen)"
      ]
    },
    {
      "cell_type": "code",
      "execution_count": 30,
      "metadata": {
        "colab": {
          "base_uri": "https://localhost:8080/"
        },
        "id": "QR6-aZ6Bo8v2",
        "outputId": "8c183224-c79b-49e7-c01d-4b5948643d7a"
      },
      "outputs": [
        {
          "output_type": "execute_result",
          "data": {
            "text/plain": [
              "array([[2.3113402e-02, 8.8877445e-01, 5.9022304e-02, 3.4099410e-03,\n",
              "        2.5679925e-02],\n",
              "       [9.1257360e-04, 7.9858778e-03, 1.1813955e-04, 9.8704034e-01,\n",
              "        3.9430456e-03],\n",
              "       [2.8959155e-05, 2.8107272e-06, 3.3298776e-02, 3.8537251e-05,\n",
              "        9.6663094e-01],\n",
              "       ...,\n",
              "       [9.7648495e-01, 9.1297331e-04, 1.1305866e-02, 5.3018155e-03,\n",
              "        5.9944666e-03],\n",
              "       [6.0113911e-05, 3.4376788e-03, 5.6525109e-06, 9.9631566e-01,\n",
              "        1.8082834e-04],\n",
              "       [6.2504872e-03, 1.0251305e-03, 7.9832876e-01, 3.8471955e-04,\n",
              "        1.9401087e-01]], dtype=float32)"
            ]
          },
          "metadata": {},
          "execution_count": 30
        }
      ],
      "source": [
        "pred_probabilities"
      ]
    },
    {
      "cell_type": "code",
      "execution_count": 31,
      "metadata": {
        "colab": {
          "base_uri": "https://localhost:8080/"
        },
        "id": "r37IqcqTo8v3",
        "outputId": "a194ca04-436a-494f-f527-8b7fad90118f"
      },
      "outputs": [
        {
          "output_type": "execute_result",
          "data": {
            "text/plain": [
              "array([0, 0, 0, 0, 0, 0, 0, 0, 0, 0, 0, 0, 0, 0, 0, 0, 0, 0, 0, 0, 0, 0,\n",
              "       0, 0, 0, 0, 0, 0, 0, 0, 0, 0, 0, 0, 0, 0, 0, 0, 0, 0, 0, 0, 0, 0,\n",
              "       0, 0, 0, 0, 0, 0], dtype=int32)"
            ]
          },
          "metadata": {},
          "execution_count": 31
        }
      ],
      "source": [
        "test_image_gen.classes[:50]"
      ]
    },
    {
      "cell_type": "code",
      "execution_count": 32,
      "metadata": {
        "id": "bsZ5UNR7o8v4"
      },
      "outputs": [],
      "source": [
        "predictions = pred_probabilities > 0.5"
      ]
    },
    {
      "cell_type": "code",
      "execution_count": 33,
      "metadata": {
        "colab": {
          "base_uri": "https://localhost:8080/"
        },
        "id": "DgiJC0X3o8v7",
        "outputId": "cf8b3ca5-8e6a-4ed9-c81b-5386ec394612"
      },
      "outputs": [
        {
          "output_type": "execute_result",
          "data": {
            "text/plain": [
              "array([[False,  True, False, False, False],\n",
              "       [False, False, False,  True, False],\n",
              "       [False, False, False, False,  True],\n",
              "       [False, False, False, False,  True],\n",
              "       [ True, False, False, False, False],\n",
              "       [False,  True, False, False, False],\n",
              "       [False, False,  True, False, False],\n",
              "       [False, False, False, False, False],\n",
              "       [False, False,  True, False, False],\n",
              "       [False, False, False, False,  True],\n",
              "       [ True, False, False, False, False],\n",
              "       [ True, False, False, False, False],\n",
              "       [False, False, False, False,  True],\n",
              "       [False, False, False, False,  True],\n",
              "       [False, False, False, False, False],\n",
              "       [False, False, False,  True, False],\n",
              "       [False, False, False, False, False],\n",
              "       [False, False,  True, False, False],\n",
              "       [False, False, False, False,  True],\n",
              "       [False, False,  True, False, False],\n",
              "       [False,  True, False, False, False],\n",
              "       [False, False, False,  True, False],\n",
              "       [False, False, False, False, False],\n",
              "       [False, False, False,  True, False],\n",
              "       [False, False, False,  True, False],\n",
              "       [False,  True, False, False, False],\n",
              "       [False,  True, False, False, False],\n",
              "       [False, False, False,  True, False],\n",
              "       [ True, False, False, False, False],\n",
              "       [False, False, False,  True, False],\n",
              "       [False, False, False, False,  True],\n",
              "       [False,  True, False, False, False],\n",
              "       [ True, False, False, False, False],\n",
              "       [ True, False, False, False, False],\n",
              "       [ True, False, False, False, False],\n",
              "       [False, False, False,  True, False],\n",
              "       [False,  True, False, False, False],\n",
              "       [False,  True, False, False, False],\n",
              "       [False, False, False, False, False],\n",
              "       [False,  True, False, False, False],\n",
              "       [False, False, False, False, False],\n",
              "       [False,  True, False, False, False],\n",
              "       [ True, False, False, False, False],\n",
              "       [False, False,  True, False, False],\n",
              "       [ True, False, False, False, False],\n",
              "       [False, False, False, False, False],\n",
              "       [False, False, False, False,  True],\n",
              "       [ True, False, False, False, False],\n",
              "       [False,  True, False, False, False],\n",
              "       [False, False, False, False,  True]])"
            ]
          },
          "metadata": {},
          "execution_count": 33
        }
      ],
      "source": [
        "predictions[:50]"
      ]
    },
    {
      "cell_type": "code",
      "execution_count": 34,
      "metadata": {
        "id": "oW6sGjXBo8v8"
      },
      "outputs": [],
      "source": [
        "from sklearn.metrics import classification_report,confusion_matrix"
      ]
    },
    {
      "cell_type": "code",
      "execution_count": 35,
      "metadata": {
        "colab": {
          "base_uri": "https://localhost:8080/",
          "height": 321
        },
        "id": "DcL6_DkJo8v9",
        "outputId": "5123a59f-01be-4f65-aa52-7f9b31e63cce"
      },
      "outputs": [
        {
          "output_type": "error",
          "ename": "ValueError",
          "evalue": "ignored",
          "traceback": [
            "\u001b[0;31m---------------------------------------------------------------------------\u001b[0m",
            "\u001b[0;31mValueError\u001b[0m                                Traceback (most recent call last)",
            "\u001b[0;32m<ipython-input-35-5059ffe3ba35>\u001b[0m in \u001b[0;36m<cell line: 1>\u001b[0;34m()\u001b[0m\n\u001b[0;32m----> 1\u001b[0;31m \u001b[0mprint\u001b[0m\u001b[0;34m(\u001b[0m\u001b[0mclassification_report\u001b[0m\u001b[0;34m(\u001b[0m\u001b[0mtest_image_gen\u001b[0m\u001b[0;34m.\u001b[0m\u001b[0mclasses\u001b[0m\u001b[0;34m,\u001b[0m\u001b[0mpredictions\u001b[0m\u001b[0;34m)\u001b[0m\u001b[0;34m)\u001b[0m\u001b[0;34m\u001b[0m\u001b[0;34m\u001b[0m\u001b[0m\n\u001b[0m",
            "\u001b[0;32m/usr/local/lib/python3.10/dist-packages/sklearn/metrics/_classification.py\u001b[0m in \u001b[0;36mclassification_report\u001b[0;34m(y_true, y_pred, labels, target_names, sample_weight, digits, output_dict, zero_division)\u001b[0m\n\u001b[1;32m   2308\u001b[0m     \"\"\"\n\u001b[1;32m   2309\u001b[0m \u001b[0;34m\u001b[0m\u001b[0m\n\u001b[0;32m-> 2310\u001b[0;31m     \u001b[0my_type\u001b[0m\u001b[0;34m,\u001b[0m \u001b[0my_true\u001b[0m\u001b[0;34m,\u001b[0m \u001b[0my_pred\u001b[0m \u001b[0;34m=\u001b[0m \u001b[0m_check_targets\u001b[0m\u001b[0;34m(\u001b[0m\u001b[0my_true\u001b[0m\u001b[0;34m,\u001b[0m \u001b[0my_pred\u001b[0m\u001b[0;34m)\u001b[0m\u001b[0;34m\u001b[0m\u001b[0;34m\u001b[0m\u001b[0m\n\u001b[0m\u001b[1;32m   2311\u001b[0m \u001b[0;34m\u001b[0m\u001b[0m\n\u001b[1;32m   2312\u001b[0m     \u001b[0;32mif\u001b[0m \u001b[0mlabels\u001b[0m \u001b[0;32mis\u001b[0m \u001b[0;32mNone\u001b[0m\u001b[0;34m:\u001b[0m\u001b[0;34m\u001b[0m\u001b[0;34m\u001b[0m\u001b[0m\n",
            "\u001b[0;32m/usr/local/lib/python3.10/dist-packages/sklearn/metrics/_classification.py\u001b[0m in \u001b[0;36m_check_targets\u001b[0;34m(y_true, y_pred)\u001b[0m\n\u001b[1;32m     93\u001b[0m \u001b[0;34m\u001b[0m\u001b[0m\n\u001b[1;32m     94\u001b[0m     \u001b[0;32mif\u001b[0m \u001b[0mlen\u001b[0m\u001b[0;34m(\u001b[0m\u001b[0my_type\u001b[0m\u001b[0;34m)\u001b[0m \u001b[0;34m>\u001b[0m \u001b[0;36m1\u001b[0m\u001b[0;34m:\u001b[0m\u001b[0;34m\u001b[0m\u001b[0;34m\u001b[0m\u001b[0m\n\u001b[0;32m---> 95\u001b[0;31m         raise ValueError(\n\u001b[0m\u001b[1;32m     96\u001b[0m             \"Classification metrics can't handle a mix of {0} and {1} targets\".format(\n\u001b[1;32m     97\u001b[0m                 \u001b[0mtype_true\u001b[0m\u001b[0;34m,\u001b[0m \u001b[0mtype_pred\u001b[0m\u001b[0;34m\u001b[0m\u001b[0;34m\u001b[0m\u001b[0m\n",
            "\u001b[0;31mValueError\u001b[0m: Classification metrics can't handle a mix of multiclass and multilabel-indicator targets"
          ]
        }
      ],
      "source": [
        "print(classification_report(test_image_gen.classes,predictions))"
      ]
    },
    {
      "cell_type": "code",
      "source": [
        "import numpy as np\n",
        "from sklearn.metrics import classification_report, confusion_matrix\n",
        "\n",
        "# En yüksek olasılığa sahip sınıfın indeksini alarak tahminleri sınıf etiketlerine dönüştürün\n",
        "predictions_labels = np.argmax(predictions, axis=1)\n",
        "\n",
        "# Şimdi sınıflandırma raporunu oluşturabilirsiniz\n",
        "print(classification_report(test_image_gen.classes, predictions_labels))\n",
        "\n",
        "# Şimdi kafa karışıklığı matrisini oluşturabilirsiniz\n",
        "cm = confusion_matrix(test_image_gen.classes, predictions_labels)\n",
        "cm\n",
        "\n"
      ],
      "metadata": {
        "colab": {
          "base_uri": "https://localhost:8080/"
        },
        "id": "VufV1ptDCVis",
        "outputId": "bd0544a6-e70f-49e9-ad4c-0f92aa38f12f"
      },
      "execution_count": 39,
      "outputs": [
        {
          "output_type": "stream",
          "name": "stdout",
          "text": [
            "              precision    recall  f1-score   support\n",
            "\n",
            "           0       0.20      0.31      0.25       127\n",
            "           1       0.25      0.24      0.25       179\n",
            "           2       0.17      0.13      0.15       128\n",
            "           3       0.14      0.12      0.13       140\n",
            "           4       0.25      0.23      0.24       160\n",
            "\n",
            "    accuracy                           0.21       734\n",
            "   macro avg       0.20      0.21      0.20       734\n",
            "weighted avg       0.21      0.21      0.20       734\n",
            "\n"
          ]
        },
        {
          "output_type": "execute_result",
          "data": {
            "text/plain": [
              "array([[40, 30, 16, 23, 18],\n",
              "       [49, 43, 22, 29, 36],\n",
              "       [36, 25, 17, 26, 24],\n",
              "       [31, 43, 20, 17, 29],\n",
              "       [43, 31, 23, 27, 36]])"
            ]
          },
          "metadata": {},
          "execution_count": 39
        }
      ]
    },
    {
      "cell_type": "code",
      "execution_count": 37,
      "metadata": {
        "colab": {
          "base_uri": "https://localhost:8080/",
          "height": 321
        },
        "id": "4qijkQefo8v_",
        "outputId": "f11f5f7f-3bd6-451f-e833-e9a8b6e45566"
      },
      "outputs": [
        {
          "output_type": "error",
          "ename": "ValueError",
          "evalue": "ignored",
          "traceback": [
            "\u001b[0;31m---------------------------------------------------------------------------\u001b[0m",
            "\u001b[0;31mValueError\u001b[0m                                Traceback (most recent call last)",
            "\u001b[0;32m<ipython-input-37-c47d345104ea>\u001b[0m in \u001b[0;36m<cell line: 1>\u001b[0;34m()\u001b[0m\n\u001b[0;32m----> 1\u001b[0;31m \u001b[0mconfusion_matrix\u001b[0m\u001b[0;34m(\u001b[0m\u001b[0mtest_image_gen\u001b[0m\u001b[0;34m.\u001b[0m\u001b[0mclasses\u001b[0m\u001b[0;34m,\u001b[0m\u001b[0mpredictions\u001b[0m\u001b[0;34m)\u001b[0m\u001b[0;34m\u001b[0m\u001b[0;34m\u001b[0m\u001b[0m\n\u001b[0m",
            "\u001b[0;32m/usr/local/lib/python3.10/dist-packages/sklearn/metrics/_classification.py\u001b[0m in \u001b[0;36mconfusion_matrix\u001b[0;34m(y_true, y_pred, labels, sample_weight, normalize)\u001b[0m\n\u001b[1;32m    315\u001b[0m     \u001b[0;34m(\u001b[0m\u001b[0;36m0\u001b[0m\u001b[0;34m,\u001b[0m \u001b[0;36m2\u001b[0m\u001b[0;34m,\u001b[0m \u001b[0;36m1\u001b[0m\u001b[0;34m,\u001b[0m \u001b[0;36m1\u001b[0m\u001b[0;34m)\u001b[0m\u001b[0;34m\u001b[0m\u001b[0;34m\u001b[0m\u001b[0m\n\u001b[1;32m    316\u001b[0m     \"\"\"\n\u001b[0;32m--> 317\u001b[0;31m     \u001b[0my_type\u001b[0m\u001b[0;34m,\u001b[0m \u001b[0my_true\u001b[0m\u001b[0;34m,\u001b[0m \u001b[0my_pred\u001b[0m \u001b[0;34m=\u001b[0m \u001b[0m_check_targets\u001b[0m\u001b[0;34m(\u001b[0m\u001b[0my_true\u001b[0m\u001b[0;34m,\u001b[0m \u001b[0my_pred\u001b[0m\u001b[0;34m)\u001b[0m\u001b[0;34m\u001b[0m\u001b[0;34m\u001b[0m\u001b[0m\n\u001b[0m\u001b[1;32m    318\u001b[0m     \u001b[0;32mif\u001b[0m \u001b[0my_type\u001b[0m \u001b[0;32mnot\u001b[0m \u001b[0;32min\u001b[0m \u001b[0;34m(\u001b[0m\u001b[0;34m\"binary\"\u001b[0m\u001b[0;34m,\u001b[0m \u001b[0;34m\"multiclass\"\u001b[0m\u001b[0;34m)\u001b[0m\u001b[0;34m:\u001b[0m\u001b[0;34m\u001b[0m\u001b[0;34m\u001b[0m\u001b[0m\n\u001b[1;32m    319\u001b[0m         \u001b[0;32mraise\u001b[0m \u001b[0mValueError\u001b[0m\u001b[0;34m(\u001b[0m\u001b[0;34m\"%s is not supported\"\u001b[0m \u001b[0;34m%\u001b[0m \u001b[0my_type\u001b[0m\u001b[0;34m)\u001b[0m\u001b[0;34m\u001b[0m\u001b[0;34m\u001b[0m\u001b[0m\n",
            "\u001b[0;32m/usr/local/lib/python3.10/dist-packages/sklearn/metrics/_classification.py\u001b[0m in \u001b[0;36m_check_targets\u001b[0;34m(y_true, y_pred)\u001b[0m\n\u001b[1;32m     93\u001b[0m \u001b[0;34m\u001b[0m\u001b[0m\n\u001b[1;32m     94\u001b[0m     \u001b[0;32mif\u001b[0m \u001b[0mlen\u001b[0m\u001b[0;34m(\u001b[0m\u001b[0my_type\u001b[0m\u001b[0;34m)\u001b[0m \u001b[0;34m>\u001b[0m \u001b[0;36m1\u001b[0m\u001b[0;34m:\u001b[0m\u001b[0;34m\u001b[0m\u001b[0;34m\u001b[0m\u001b[0m\n\u001b[0;32m---> 95\u001b[0;31m         raise ValueError(\n\u001b[0m\u001b[1;32m     96\u001b[0m             \"Classification metrics can't handle a mix of {0} and {1} targets\".format(\n\u001b[1;32m     97\u001b[0m                 \u001b[0mtype_true\u001b[0m\u001b[0;34m,\u001b[0m \u001b[0mtype_pred\u001b[0m\u001b[0;34m\u001b[0m\u001b[0;34m\u001b[0m\u001b[0m\n",
            "\u001b[0;31mValueError\u001b[0m: Classification metrics can't handle a mix of multiclass and multilabel-indicator targets"
          ]
        }
      ],
      "source": [
        "confusion_matrix(test_image_gen.classes,predictions)"
      ]
    },
    {
      "cell_type": "code",
      "execution_count": 40,
      "metadata": {
        "colab": {
          "base_uri": "https://localhost:8080/"
        },
        "id": "rY1JmMhRo8wA",
        "outputId": "f96a3eb7-3da6-4bc4-d6e6-ea46645165ec"
      },
      "outputs": [
        {
          "output_type": "stream",
          "name": "stderr",
          "text": [
            "/usr/local/lib/python3.10/dist-packages/keras/src/engine/training.py:3000: UserWarning: You are saving your model as an HDF5 file via `model.save()`. This file format is considered legacy. We recommend using instead the native Keras format, e.g. `model.save('my_model.keras')`.\n",
            "  saving_api.save_model(\n"
          ]
        }
      ],
      "source": [
        "from tensorflow.keras.models import load_model\n",
        "model.save('best_model.h5')"
      ]
    },
    {
      "cell_type": "markdown",
      "metadata": {
        "id": "sl6eUZ4Uo8wB"
      },
      "source": [
        "# Predicting on an Image"
      ]
    },
    {
      "cell_type": "code",
      "execution_count": 41,
      "metadata": {
        "colab": {
          "base_uri": "https://localhost:8080/"
        },
        "id": "gL4t295ko8wC",
        "outputId": "216bc81e-e6fc-4f1b-9574-201a6fe67cf0"
      },
      "outputs": [
        {
          "output_type": "execute_result",
          "data": {
            "text/plain": [
              "{'daisy': 0, 'dandelion': 1, 'roses': 2, 'sunflowers': 3, 'tulips': 4}"
            ]
          },
          "metadata": {},
          "execution_count": 41
        }
      ],
      "source": [
        "train_image_gen.class_indices"
      ]
    },
    {
      "cell_type": "code",
      "execution_count": 42,
      "metadata": {
        "colab": {
          "base_uri": "https://localhost:8080/"
        },
        "id": "tIBFwKASo8wD",
        "outputId": "229ee31c-69ef-414d-82d3-289caaa239f2"
      },
      "outputs": [
        {
          "output_type": "execute_result",
          "data": {
            "text/plain": [
              "{'daisy': 0, 'dandelion': 1, 'roses': 2, 'sunflowers': 3, 'tulips': 4}"
            ]
          },
          "metadata": {},
          "execution_count": 42
        }
      ],
      "source": [
        "test_image_gen.class_indices"
      ]
    },
    {
      "cell_type": "code",
      "execution_count": null,
      "metadata": {
        "id": "zashQ3KPo8wE"
      },
      "outputs": [],
      "source": []
    },
    {
      "cell_type": "code",
      "execution_count": 43,
      "metadata": {
        "colab": {
          "base_uri": "https://localhost:8080/"
        },
        "id": "AdY9dTMeo8wF",
        "outputId": "71ca8660-d11d-4415-f89e-e6b93bcb2d7a"
      },
      "outputs": [
        {
          "output_type": "stream",
          "name": "stdout",
          "text": [
            "1/1 [==============================] - 0s 472ms/step\n",
            "Tahmin edilen sınıf: 2\n"
          ]
        }
      ],
      "source": [
        "from tensorflow.keras.preprocessing import image\n",
        "import numpy as np\n",
        "import tensorflow as tf\n",
        "from PIL import Image\n",
        "\n",
        "# Modeli yükleyin\n",
        "model = tf.keras.models.load_model('best_model.h5')\n",
        "\n",
        "# Yeni görüntüyü açın ve uygun bir formata dönüştürün\n",
        "image = Image.open(\"/content/drive/MyDrive/Colab Notebooks/roses_2.jpg\")\n",
        "image = image.resize((256, 256))\n",
        "image_array = np.array(image.convert('RGB')) / 255.0\n",
        "image_array = np.expand_dims(image_array, axis=0)\n",
        "\n",
        "# Tahmin yapın\n",
        "prediction = model.predict(image_array)\n",
        "\n",
        "# Tahmin edilen sınıfı ekrana yazdırın\n",
        "predicted_class = np.argmax(prediction)\n",
        "print('Tahmin edilen sınıf:', predicted_class)"
      ]
    },
    {
      "cell_type": "code",
      "execution_count": 44,
      "metadata": {
        "colab": {
          "base_uri": "https://localhost:8080/"
        },
        "id": "vOyAwve4o8wG",
        "outputId": "9a0d0539-9306-4f0b-a4ab-88029c07f06b"
      },
      "outputs": [
        {
          "output_type": "stream",
          "name": "stdout",
          "text": [
            "1/1 [==============================] - 0s 119ms/step\n",
            "Tahmin edilen sınıf: 2\n"
          ]
        }
      ],
      "source": [
        "from tensorflow.keras.preprocessing import image\n",
        "import numpy as np\n",
        "import tensorflow as tf\n",
        "from PIL import Image\n",
        "\n",
        "# Modeli yükleyin\n",
        "model = tf.keras.models.load_model('best_model.h5')\n",
        "\n",
        "# Yeni görüntüyü açın ve uygun bir formata dönüştürün\n",
        "image = Image.open(\"/content/drive/MyDrive/Colab Notebooks/roses_1.jpg\")\n",
        "image = image.resize((256, 256))\n",
        "image_array = np.array(image.convert('RGB')) / 255.0\n",
        "image_array = np.expand_dims(image_array, axis=0)\n",
        "\n",
        "# Tahmin yapın\n",
        "prediction = model.predict(image_array)\n",
        "\n",
        "# Tahmin edilen sınıfı ekrana yazdırın\n",
        "predicted_class = np.argmax(prediction)\n",
        "print('Tahmin edilen sınıf:', predicted_class)"
      ]
    },
    {
      "cell_type": "code",
      "execution_count": 45,
      "metadata": {
        "colab": {
          "base_uri": "https://localhost:8080/"
        },
        "id": "SJtif6_no8wH",
        "outputId": "3ecef50a-c47f-46d3-fef8-332eb5859d8e"
      },
      "outputs": [
        {
          "output_type": "stream",
          "name": "stdout",
          "text": [
            "1/1 [==============================] - 0s 342ms/step\n",
            "Tahmin edilen sınıf: 0\n"
          ]
        }
      ],
      "source": [
        "from tensorflow.keras.preprocessing import image\n",
        "import numpy as np\n",
        "import tensorflow as tf\n",
        "from PIL import Image\n",
        "\n",
        "# Modeli yükleyin\n",
        "model = tf.keras.models.load_model('best_model.h5')\n",
        "\n",
        "# Yeni görüntüyü açın ve uygun bir formata dönüştürün\n",
        "image = Image.open(\"/content/drive/MyDrive/Colab Notebooks/daisy_1.jpg\")\n",
        "image = image.resize((256, 256))\n",
        "image_array = np.array(image.convert('RGB')) / 255.0\n",
        "image_array = np.expand_dims(image_array, axis=0)\n",
        "\n",
        "# Tahmin yapın\n",
        "prediction = model.predict(image_array)\n",
        "\n",
        "# Tahmin edilen sınıfı ekrana yazdırın\n",
        "predicted_class = np.argmax(prediction)\n",
        "print('Tahmin edilen sınıf:', predicted_class)"
      ]
    },
    {
      "cell_type": "code",
      "execution_count": 46,
      "metadata": {
        "colab": {
          "base_uri": "https://localhost:8080/"
        },
        "id": "b3-36j7oo8wH",
        "outputId": "b98f4d01-5bca-4be2-ddf1-d27abf4b5dd7"
      },
      "outputs": [
        {
          "output_type": "stream",
          "name": "stderr",
          "text": [
            "WARNING:tensorflow:5 out of the last 27 calls to <function Model.make_predict_function.<locals>.predict_function at 0x7c6ff1b0b400> triggered tf.function retracing. Tracing is expensive and the excessive number of tracings could be due to (1) creating @tf.function repeatedly in a loop, (2) passing tensors with different shapes, (3) passing Python objects instead of tensors. For (1), please define your @tf.function outside of the loop. For (2), @tf.function has reduce_retracing=True option that can avoid unnecessary retracing. For (3), please refer to https://www.tensorflow.org/guide/function#controlling_retracing and https://www.tensorflow.org/api_docs/python/tf/function for  more details.\n"
          ]
        },
        {
          "output_type": "stream",
          "name": "stdout",
          "text": [
            "1/1 [==============================] - 0s 188ms/step\n",
            "Tahmin edilen sınıf: 4\n"
          ]
        }
      ],
      "source": [
        "from tensorflow.keras.preprocessing import image\n",
        "import numpy as np\n",
        "import tensorflow as tf\n",
        "from PIL import Image\n",
        "\n",
        "# Modeli yükleyin\n",
        "model = tf.keras.models.load_model('best_model.h5')\n",
        "\n",
        "# Yeni görüntüyü açın ve uygun bir formata dönüştürün\n",
        "image = Image.open(\"/content/drive/MyDrive/Colab Notebooks/tulips_2.jpg\")\n",
        "image = image.resize((256, 256))\n",
        "image_array = np.array(image.convert('RGB')) / 255.0\n",
        "image_array = np.expand_dims(image_array, axis=0)\n",
        "\n",
        "# Tahmin yapın\n",
        "prediction = model.predict(image_array)\n",
        "\n",
        "# Tahmin edilen sınıfı ekrana yazdırın\n",
        "predicted_class = np.argmax(prediction)\n",
        "print('Tahmin edilen sınıf:', predicted_class)"
      ]
    },
    {
      "cell_type": "markdown",
      "metadata": {
        "id": "H-6eAK_Vo8wI"
      },
      "source": [
        "![image.png](attachment:image.png)"
      ]
    },
    {
      "cell_type": "code",
      "execution_count": null,
      "metadata": {
        "id": "GOZe8RZ-o8wo"
      },
      "outputs": [],
      "source": []
    },
    {
      "cell_type": "code",
      "execution_count": 23,
      "metadata": {
        "ExecuteTime": {
          "end_time": "2023-09-10T14:32:06.537720Z",
          "start_time": "2023-09-10T14:32:06.386672Z"
        },
        "colab": {
          "base_uri": "https://localhost:8080/"
        },
        "id": "nxrgNPsYo8uU",
        "outputId": "2580460b-04ad-48d3-92ed-5517f1801a09"
      },
      "outputs": [
        {
          "output_type": "stream",
          "name": "stdout",
          "text": [
            "Model: \"sequential\"\n",
            "_________________________________________________________________\n",
            " Layer (type)                Output Shape              Param #   \n",
            "=================================================================\n",
            " conv2d (Conv2D)             (None, 254, 254, 64)      1792      \n",
            "                                                                 \n",
            " max_pooling2d (MaxPooling2  (None, 127, 127, 64)      0         \n",
            " D)                                                              \n",
            "                                                                 \n",
            " batch_normalization (Batch  (None, 127, 127, 64)      256       \n",
            " Normalization)                                                  \n",
            "                                                                 \n",
            " dropout (Dropout)           (None, 127, 127, 64)      0         \n",
            "                                                                 \n",
            " conv2d_1 (Conv2D)           (None, 125, 125, 128)     73856     \n",
            "                                                                 \n",
            " conv2d_2 (Conv2D)           (None, 123, 123, 128)     147584    \n",
            "                                                                 \n",
            " max_pooling2d_1 (MaxPoolin  (None, 61, 61, 128)       0         \n",
            " g2D)                                                            \n",
            "                                                                 \n",
            " max_pooling2d_2 (MaxPoolin  (None, 30, 30, 128)       0         \n",
            " g2D)                                                            \n",
            "                                                                 \n",
            " batch_normalization_1 (Bat  (None, 30, 30, 128)       512       \n",
            " chNormalization)                                                \n",
            "                                                                 \n",
            " dropout_1 (Dropout)         (None, 30, 30, 128)       0         \n",
            "                                                                 \n",
            " conv2d_3 (Conv2D)           (None, 28, 28, 128)       147584    \n",
            "                                                                 \n",
            " conv2d_4 (Conv2D)           (None, 26, 26, 128)       147584    \n",
            "                                                                 \n",
            " max_pooling2d_3 (MaxPoolin  (None, 13, 13, 128)       0         \n",
            " g2D)                                                            \n",
            "                                                                 \n",
            " max_pooling2d_4 (MaxPoolin  (None, 6, 6, 128)         0         \n",
            " g2D)                                                            \n",
            "                                                                 \n",
            " batch_normalization_2 (Bat  (None, 6, 6, 128)         512       \n",
            " chNormalization)                                                \n",
            "                                                                 \n",
            " dropout_2 (Dropout)         (None, 6, 6, 128)         0         \n",
            "                                                                 \n",
            " flatten (Flatten)           (None, 4608)              0         \n",
            "                                                                 \n",
            " dense (Dense)               (None, 128)               589952    \n",
            "                                                                 \n",
            " dense_1 (Dense)             (None, 5)                 645       \n",
            "                                                                 \n",
            "=================================================================\n",
            "Total params: 1110277 (4.24 MB)\n",
            "Trainable params: 1109637 (4.23 MB)\n",
            "Non-trainable params: 640 (2.50 KB)\n",
            "_________________________________________________________________\n"
          ]
        }
      ],
      "source": [
        "from tensorflow.keras.models import Sequential\n",
        "from tensorflow.keras.layers import Activation, Dropout, Flatten, Dense, Conv2D, MaxPooling2D, BatchNormalization\n",
        "from tensorflow.keras.applications.resnet import ResNet152, preprocess_input, decode_predictions\n",
        "from tensorflow.keras.callbacks import EarlyStopping, ModelCheckpoint\n",
        "\n",
        "model = Sequential()\n",
        "\n",
        "model.add(Conv2D(filters=64, kernel_size=(3,3),input_shape=image_shape, activation='relu',))\n",
        "model.add(MaxPooling2D(pool_size=(2, 2)))\n",
        "model.add(BatchNormalization())\n",
        "model.add(Dropout(0.3))\n",
        "\n",
        "model.add(Conv2D(filters=128, kernel_size=(3,3), activation='relu'))\n",
        "model.add(Conv2D(filters=128, kernel_size=(3,3), activation='relu'))\n",
        "model.add(MaxPooling2D(pool_size=(2, 2)))\n",
        "model.add(MaxPooling2D(pool_size=(2, 2)))\n",
        "model.add(BatchNormalization())\n",
        "model.add(Dropout(0.3))\n",
        "\n",
        "model.add(Conv2D(filters=128, kernel_size=(3,3), activation='relu'))\n",
        "model.add(Conv2D(filters=128, kernel_size=(3,3), activation='relu'))\n",
        "model.add(MaxPooling2D(pool_size=(2, 2)))\n",
        "model.add(MaxPooling2D(pool_size=(2, 2)))\n",
        "\n",
        "model.add(BatchNormalization())\n",
        "model.add(Dropout(0.3))\n",
        "\n",
        "model.add(Flatten())\n",
        "\n",
        "\n",
        "model.add(Dense(128, activation='relu'))\n",
        "\n",
        "\n",
        "model.add(Dense(5, activation='softmax'))\n",
        "\n",
        "model.compile(loss='categorical_crossentropy',\n",
        "              optimizer='adam',\n",
        "              metrics=['accuracy'])\n",
        "\n",
        "# Callbacks:\n",
        "early_stop = EarlyStopping(monitor='val_loss',patience=10)\n",
        "checkpoint = ModelCheckpoint('best_model.h5', monitor='val_loss', verbose=1, save_best_only=True, mode='min')\n",
        "\n",
        "model.summary()"
      ]
    }
  ],
  "metadata": {
    "colab": {
      "provenance": [],
      "gpuType": "T4",
      "include_colab_link": true
    },
    "hide_input": false,
    "kernelspec": {
      "display_name": "Python 3",
      "name": "python3"
    },
    "language_info": {
      "codemirror_mode": {
        "name": "ipython",
        "version": 3
      },
      "file_extension": ".py",
      "mimetype": "text/x-python",
      "name": "python",
      "nbconvert_exporter": "python",
      "pygments_lexer": "ipython3",
      "version": "3.9.17"
    },
    "nbTranslate": {
      "displayLangs": [
        "*"
      ],
      "hotkey": "alt-t",
      "langInMainMenu": true,
      "sourceLang": "en",
      "targetLang": "fr",
      "useGoogleTranslate": true
    },
    "toc": {
      "base_numbering": 1,
      "nav_menu": {},
      "number_sections": true,
      "sideBar": true,
      "skip_h1_title": false,
      "title_cell": "Table of Contents",
      "title_sidebar": "Contents",
      "toc_cell": false,
      "toc_position": {
        "height": "calc(100% - 180px)",
        "left": "10px",
        "top": "150px",
        "width": "174.176px"
      },
      "toc_section_display": true,
      "toc_window_display": true
    },
    "varInspector": {
      "cols": {
        "lenName": 16,
        "lenType": 16,
        "lenVar": 40
      },
      "kernels_config": {
        "python": {
          "delete_cmd_postfix": "",
          "delete_cmd_prefix": "del ",
          "library": "var_list.py",
          "varRefreshCmd": "print(var_dic_list())"
        },
        "r": {
          "delete_cmd_postfix": ") ",
          "delete_cmd_prefix": "rm(",
          "library": "var_list.r",
          "varRefreshCmd": "cat(var_dic_list()) "
        }
      },
      "types_to_exclude": [
        "module",
        "function",
        "builtin_function_or_method",
        "instance",
        "_Feature"
      ],
      "window_display": false
    },
    "accelerator": "GPU"
  },
  "nbformat": 4,
  "nbformat_minor": 0
}